{
  "nbformat": 4,
  "nbformat_minor": 0,
  "metadata": {
    "colab": {
      "provenance": [],
      "toc_visible": true,
      "authorship_tag": "ABX9TyPgNNXCf/RR2z0XHzHYKIxC",
      "include_colab_link": true
    },
    "kernelspec": {
      "name": "python3",
      "display_name": "Python 3"
    },
    "language_info": {
      "name": "python"
    }
  },
  "cells": [
    {
      "cell_type": "markdown",
      "metadata": {
        "id": "view-in-github",
        "colab_type": "text"
      },
      "source": [
        "<a href=\"https://colab.research.google.com/github/marioluiz99/exerc_python/blob/main/L%C3%B3gica_de_Programa%C3%A7%C3%A3o_para_Data_Science_e_AI_com_Python.ipynb\" target=\"_parent\"><img src=\"https://colab.research.google.com/assets/colab-badge.svg\" alt=\"Open In Colab\"/></a>"
      ]
    },
    {
      "cell_type": "markdown",
      "source": [
        "#Problemas"
      ],
      "metadata": {
        "id": "qK4n-sUs3yfY"
      }
    },
    {
      "cell_type": "code",
      "source": [
        "#Cotação de moeda\n",
        "#O programa deve fazer a cotação de compra de moeda estrangeira\n",
        "#O usuário deve entrar com o valor da moeda estrangeira que quer comprar\n",
        "#O sistema terá internamente uma variável com a cotação do dia\n",
        "#O sistema imprime o valor a ser pago em moeda local\n",
        "#Obs; deve aceitar valores em reais"
      ],
      "metadata": {
        "id": "uDBAfAXe344n"
      },
      "execution_count": 5,
      "outputs": []
    },
    {
      "cell_type": "code",
      "execution_count": 4,
      "metadata": {
        "colab": {
          "base_uri": "https://localhost:8080/"
        },
        "id": "WlBnx2wGyrw-",
        "outputId": "313707b7-8832-4b77-ed00-af31350feb4c"
      },
      "outputs": [
        {
          "output_type": "stream",
          "name": "stdout",
          "text": [
            "Informe o valor da Moeda estrangeira para compra: 50\n",
            "A cotação do US$ hoje é: 5.53\n",
            "O valor total em moeda local é:  276.5\n"
          ]
        }
      ],
      "source": [
        "cotacao = 5.53\n",
        "valor = float(input(\"Informe o valor da Moeda estrangeira para compra: \"))\n",
        "conversão = valor * cotacao\n",
        "\n",
        "print(\"A cotação do US$ hoje é: %.2f\" %(cotacao))\n",
        "print(\"O valor total em moeda local é: \", conversão)"
      ]
    },
    {
      "cell_type": "code",
      "source": [
        "#Calculadora de somar inteiros\n",
        "#O sistema pede a entrada do primeiro valor, do tipo inteiro\n",
        "#O programa pede a entrada do segundo valor, do tipo inteiro\n",
        "#O sistema imprime a soma dos dois valores"
      ],
      "metadata": {
        "id": "SAWNfvCY4xin"
      },
      "execution_count": null,
      "outputs": []
    },
    {
      "cell_type": "code",
      "source": [
        "val1 = int(input(\"Informe o primeiro valor: \"))\n",
        "val2 = int(input(\"Informe o segundo valor: \"))\n",
        "\n",
        "print(\"----------------------\")\n",
        "print(\"Operações matemáticas\")\n",
        "print(\"----------------------\")\n",
        "\n",
        "adicao = val1 + val2\n",
        "subtracao = val1 - val2\n",
        "multiplicacao = val1 * val2\n",
        "divisao = val1 / val2\n",
        "exponenciacao = val1 ** val2\n",
        "resto = val1 % val2\n",
        "\n",
        "print(\"O adição de %s + %s é: %s\" % (val1, val2, adicao))\n",
        "print(\"O subtração de %s - %s é: %s\" % (val1, val2, subtracao))\n",
        "print(\"O multiplicação de %s * %s é: %s\" % (val1, val2, multiplicacao))\n",
        "print(\"O divisão de %s / %s é: %s\" % (val1, val2, divisao))\n",
        "print(\"O exponenciação de %s ** %s é: %s\" % (val1, val2, exponenciacao))\n",
        "print(\"O resto da divisão de %s ¨ %s é: %s\" % (val1, val2, resto))"
      ],
      "metadata": {
        "colab": {
          "base_uri": "https://localhost:8080/"
        },
        "id": "cXMTRzF45cjQ",
        "outputId": "98a85ee4-dba3-4bf5-c714-87a937ca967a"
      },
      "execution_count": 69,
      "outputs": [
        {
          "output_type": "stream",
          "name": "stdout",
          "text": [
            "Informe o primeiro valor: 45\n",
            "Informe o segundo valor: 15\n",
            "----------------------\n",
            "Operações matemáticas\n",
            "----------------------\n",
            "O adição de 45 + 15 é: 60\n",
            "O subtração de 45 - 15 é: 30\n",
            "O multiplicação de 45 * 15 é: 675\n",
            "O divisão de 45 / 15 é: 3.0\n",
            "O exponenciação de 45 ** 15 é: 6283298708943145751953125\n",
            "O resto da divisão de 45 ¨ 15 é: 0\n"
          ]
        }
      ]
    },
    {
      "cell_type": "code",
      "source": [
        "#Inversão\n",
        "#O programa deve fazer a leitura de duas variáveis(string)\n",
        "#Os valores devem ser registrados nas variáveis var1 e var2b\n",
        "#O sistema deve inverter os valores, colocar em varb o valor de var1 e vice-versa\n",
        "#O sistema deve imprimir as variáveis invertidas"
      ],
      "metadata": {
        "id": "7ACjxUsaUmkJ"
      },
      "execution_count": null,
      "outputs": []
    },
    {
      "cell_type": "code",
      "source": [
        "var1 = input(\"informe a primeira variável: \")\n",
        "var2 = input(\"informe a segunda variável: \")\n",
        "vartemp = var2\n",
        "var2 = var1\n",
        "var1 = vartemp\n",
        "\n",
        "\n",
        "print(\"As variáveis invertidas são: \", var1, \"e\" , var2)"
      ],
      "metadata": {
        "colab": {
          "base_uri": "https://localhost:8080/"
        },
        "id": "LZalpuwfVJXl",
        "outputId": "bc57192c-ae2d-4d24-800b-4da5f8231408"
      },
      "execution_count": 74,
      "outputs": [
        {
          "output_type": "stream",
          "name": "stdout",
          "text": [
            "informe a primeira variável: primeira\n",
            "informe a segunda variável: segunda\n",
            "As variáveis invertidas são:  segunda e primeira\n"
          ]
        }
      ]
    },
    {
      "cell_type": "code",
      "source": [
        "#Operações\n",
        "#O sistema deve ler um número inteiro\n",
        "#Deve então imprimir\n",
        "#O antecessor deste número\n",
        "#O sucessor deste número\n",
        "#A potência deste número"
      ],
      "metadata": {
        "id": "wi-vQOtlXNlR"
      },
      "execution_count": null,
      "outputs": []
    },
    {
      "cell_type": "code",
      "source": [
        "num1 = int(input(\"Informe o número para o cálculo: \"))\n",
        "\n",
        "print(\"Antecessor: \", num1 - 1)\n",
        "print(\"Sucessor: \", num1 + 1)\n",
        "print(\"Informe a potência: \", num1 * num1)"
      ],
      "metadata": {
        "colab": {
          "base_uri": "https://localhost:8080/"
        },
        "id": "nk8vd3MoYUxZ",
        "outputId": "36717673-2a58-4b83-fbac-81a9a556f432"
      },
      "execution_count": 75,
      "outputs": [
        {
          "output_type": "stream",
          "name": "stdout",
          "text": [
            "Informe o número para o cálculo: 50\n",
            "Antecessor:  49\n",
            "Sucessor:  51\n",
            "Informe a potência:  2500\n"
          ]
        }
      ]
    },
    {
      "cell_type": "code",
      "source": [
        "#Percentuais\n",
        "\n",
        "#O programa deve ler a quantidade de alunos de uma escola\n",
        "#O programa deve ler a quantidade de alunos do sexo masculino\n",
        "#o programa deve imprimir o percentual de alunos do sexo masculino e feminino"
      ],
      "metadata": {
        "id": "GuZkJox7duZ-"
      },
      "execution_count": null,
      "outputs": []
    },
    {
      "cell_type": "code",
      "source": [
        "total = int(input(\"Informe o total de alunos: \"))\n",
        "masculino = int(input(\"informe o total de alunos do sexo masculino: \"))\n",
        "\n",
        "print(\"Percentual de alunos do sexo masculino: \", masculino * 100 / total)\n",
        "print(\"Percentual do sexo feminino: \", (total - masculino * 100 / total))"
      ],
      "metadata": {
        "colab": {
          "base_uri": "https://localhost:8080/"
        },
        "id": "i81hRoD_mgeu",
        "outputId": "dc8e9ab0-01fb-453f-9893-2bba4136f972"
      },
      "execution_count": 2,
      "outputs": [
        {
          "output_type": "stream",
          "name": "stdout",
          "text": [
            "Informe o total de alunos: 100\n",
            "informe o total de alunos do sexo masculino: 40\n",
            "Percentual de alunos do sexo masculino:  40.0\n",
            "Percentual do sexo feminino:  60.0\n"
          ]
        }
      ]
    },
    {
      "cell_type": "code",
      "source": [
        "#Área do retângulo\n",
        "\n",
        "#O programa deve fazer a leitura da largura e altura do retângulo\n",
        "#O sistema deverá imprimir a área do retângulo"
      ],
      "metadata": {
        "id": "KZMlj3Vtrm5f"
      },
      "execution_count": null,
      "outputs": []
    },
    {
      "cell_type": "code",
      "source": [
        "largura = float(input(\"Informe a largura do retângulo: \"))\n",
        "altura = float(input(\"Informe a altura do retângulo: \"))\n",
        "\n",
        "print(\"==================================\")\n",
        "print(\"Formula para o cálculo: A = b x h\")\n",
        "print(\"==================================\")\n",
        "\n",
        "area = largura * altura\n",
        "\n",
        "print(\"O resultado do cálculo da largura: %.2f x altura: %.2f é: %.2f\" %(largura, altura, area))"
      ],
      "metadata": {
        "colab": {
          "base_uri": "https://localhost:8080/"
        },
        "id": "Ks1bW4hNr8OZ",
        "outputId": "1fea1814-9074-493e-f065-65c18d81b98e"
      },
      "execution_count": 12,
      "outputs": [
        {
          "output_type": "stream",
          "name": "stdout",
          "text": [
            "Informe a largura do retângulo: 6\n",
            "Informe a altura do retângulo: 3\n",
            "==================================\n",
            "Formula para o cálculo: A = b x h\n",
            "==================================\n",
            "O resultado do cálculo da largura: 6.00 x altura: 3.00 é: 18.00\n"
          ]
        }
      ]
    },
    {
      "cell_type": "code",
      "source": [
        "#Calculadora de Inteiros\n",
        "\n",
        "#O sistema pede a entrada do primeiro valor do tipo inteiro\n",
        "#O sistema pede a entrada do segundo valor do tipo inteiro\n",
        "#O sistema imprime:\n",
        "\n",
        "#A soma dos dois valores\n",
        "#O produto dos dois valores"
      ],
      "metadata": {
        "id": "sj3VQ2QAvZvm"
      },
      "execution_count": null,
      "outputs": []
    },
    {
      "cell_type": "code",
      "source": [
        "val1 = int(input(\"Informe o primeiro valor: \"))\n",
        "val2 = int(input(\"Informe o segundo valor: \"))\n",
        "\n",
        "total = val1 + val2\n",
        "produto = val1 * val2\n",
        "\n",
        "print(\"A soma dos valores é: \", total, \"| E o produto dos valores é: \", produto)"
      ],
      "metadata": {
        "colab": {
          "base_uri": "https://localhost:8080/"
        },
        "id": "jh5K-_Xpv8Gp",
        "outputId": "438da324-3482-44ca-be67-872e25c8164e"
      },
      "execution_count": 17,
      "outputs": [
        {
          "output_type": "stream",
          "name": "stdout",
          "text": [
            "Informe o primeiro valor: 40\n",
            "Informe o segundo valor: 30\n",
            "A soma dos valores é:  70 | E o produto dos valores é:  1200\n"
          ]
        }
      ]
    },
    {
      "cell_type": "code",
      "source": [
        "#Reajuste\n",
        "\n",
        "#O programa deve ler o salário de um funcionário(float)\n",
        "#O programa deve ler um percentual de reajuste(float)\n",
        "#O sistema deve imprimir o salário reajustado"
      ],
      "metadata": {
        "id": "AoZgkxgWyUnz"
      },
      "execution_count": null,
      "outputs": []
    },
    {
      "cell_type": "code",
      "source": [
        "salario = float(input(\"Informe o salário do funcionário: \"))\n",
        "reajuste = float(input(\"Informe o precentual do reajuste: \"))\n",
        "\n",
        "total = salario + salario * (reajuste / 100)\n",
        "\n",
        "print(\"=============================================\")\n",
        "print(\"Cálculo: salario + salario * (reajuste / 100)\")\n",
        "print(\"=============================================\")\n",
        "\n",
        "print(\"O salário reajustado é: %.2f\" %(total))"
      ],
      "metadata": {
        "colab": {
          "base_uri": "https://localhost:8080/"
        },
        "id": "2CS3LFZHyqzH",
        "outputId": "2043332e-8920-4208-b0f8-21b7c3522dbb"
      },
      "execution_count": 25,
      "outputs": [
        {
          "output_type": "stream",
          "name": "stdout",
          "text": [
            "Informe o salário do funcionário: 1500\n",
            "Informe o precentual do reajuste: 10\n",
            "=============================================\n",
            "Cálculo: salario + salario * (reajuste / 100)\n",
            "=============================================\n",
            "O salário reajustado é: 1650.00\n"
          ]
        }
      ]
    },
    {
      "cell_type": "code",
      "source": [
        "#Salário\n",
        "\n",
        "#O sistema deve ler o salário anual do funcionário\n",
        "#O sistema deve calcular quanto o funcionário deve receber por mês"
      ],
      "metadata": {
        "id": "rRhUR3R01H8S"
      },
      "execution_count": null,
      "outputs": []
    },
    {
      "cell_type": "code",
      "source": [
        "salario_anual = float(input(\"Digite o salário anual do funcionário: \"))\n",
        "\n",
        "salario_mensal = salario_anual / 12\n",
        "\n",
        "print(\"O salário mensal do funcionário é: %.2f\" %salario_mensal)"
      ],
      "metadata": {
        "colab": {
          "base_uri": "https://localhost:8080/"
        },
        "id": "-LboQ9zo1oHR",
        "outputId": "9879297d-a1b0-4dd0-d035-38598f3147ef"
      },
      "execution_count": 29,
      "outputs": [
        {
          "output_type": "stream",
          "name": "stdout",
          "text": [
            "Digite o salário anual do funcionário: 25000\n",
            "O salário mensal do funcionário é: 2083.33\n"
          ]
        }
      ]
    },
    {
      "cell_type": "code",
      "source": [
        "#Impostos\n",
        "\n",
        "#O programa deve ler o valor total da manutenção de um veículo\n",
        "#O programa deve ler o percentual de impostos de serviços\n",
        "#O programa deve ler o percentual de impostos de produtos\n",
        "#o programa deve imprimir o total a ser pago nos dois impostos, bem como o valor que\n",
        "#sobra depois de descontados os impostos"
      ],
      "metadata": {
        "id": "2DrPTsNq6Uuo"
      },
      "execution_count": null,
      "outputs": []
    },
    {
      "cell_type": "code",
      "source": [
        "manutencao = float(input(\"Informe o valor total da manutenção do veículo: \"))\n",
        "iss = float(input(\"Informe o percentual de impostos de serviços: \"))\n",
        "icms = float(input(\"Informe o percentual de impostos de produtos: \"))\n",
        "\n",
        "total_iss = manutencao * (iss / 100)\n",
        "total_icms = manutencao * (icms / 100)\n",
        "\n",
        "print(\"Percentual de iss %.f é: %.2f \" %(iss, total_iss))\n",
        "print(\"Percentual de icms %.f é: %.2f \" %(icms, total_icms))\n",
        "\n",
        "print(\"Total da manutenção - impostos é: \", (manutencao - total_iss - total_icms))\n"
      ],
      "metadata": {
        "colab": {
          "base_uri": "https://localhost:8080/"
        },
        "id": "PG0nVhDU65Pn",
        "outputId": "1b3ee2f1-1a72-4d2e-86eb-9bd69efbdf3d"
      },
      "execution_count": 43,
      "outputs": [
        {
          "output_type": "stream",
          "name": "stdout",
          "text": [
            "Informe o valor total da manutenção do veículo: 5000\n",
            "Informe o percentual de impostos de serviços: 5\n",
            "Informe o percentual de impostos de produtos: 8\n",
            "Percentual de iss 5 é: 250.00 \n",
            "Percentual de icms 8 é: 400.00 \n",
            "Total da manutenção - impostos é:  4350.0\n"
          ]
        }
      ]
    }
  ]
}